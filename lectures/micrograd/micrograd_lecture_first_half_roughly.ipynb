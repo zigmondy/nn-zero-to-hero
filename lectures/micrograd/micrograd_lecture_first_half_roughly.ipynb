{
 "cells": [
  {
   "cell_type": "code",
   "execution_count": null,
   "metadata": {},
   "outputs": [],
   "source": [
    "import math\n",
    "import numpy as np\n",
    "import matplotlib.pyplot as plt\n",
    "%matplotlib inline"
   ]
  },
  {
   "cell_type": "code",
   "execution_count": null,
   "metadata": {},
   "outputs": [],
   "source": [
    "def f(x):\n",
    "  return 3*x**2 - 4*x + 5"
   ]
  },
  {
   "cell_type": "code",
   "execution_count": null,
   "metadata": {},
   "outputs": [
    {
     "data": {
      "text/plain": [
       "20.0"
      ]
     },
     "execution_count": 3,
     "metadata": {},
     "output_type": "execute_result"
    }
   ],
   "source": [
    "f(3.0)"
   ]
  },
  {
   "cell_type": "code",
   "execution_count": null,
   "metadata": {},
   "outputs": [
    {
     "data": {
      "text/plain": [
       "Text(0, 0.5, 'f(x)')"
      ]
     },
     "execution_count": 4,
     "metadata": {},
     "output_type": "execute_result"
    },
    {
     "data": {
      "image/png": "[encoded data removed]",
      "text/plain": [
       "<Figure size 640x480 with 1 Axes>"
      ]
     },
     "metadata": {},
     "output_type": "display_data"
    }
   ],
   "source": [
    "xs = np.arange(-5, 5, 0.25)\n",
    "ys = f(xs)\n",
    "# plot and add labels\n",
    "plt.plot(xs, ys)\n",
    "plt.xlabel('x')\n",
    "plt.ylabel('f(x)')"
   ]
  },
  {
   "cell_type": "code",
   "execution_count": null,
   "metadata": {},
   "outputs": [
    {
     "data": {
      "text/plain": [
       "14.000003002223593"
      ]
     },
     "execution_count": 5,
     "metadata": {},
     "output_type": "execute_result"
    }
   ],
   "source": [
    "h = 0.000001\n",
    "x = 3\n",
    "(f(x + h) - f(x))/h"
   ]
  },
  {
   "cell_type": "code",
   "execution_count": null,
   "metadata": {},
   "outputs": [
    {
     "data": {
      "text/plain": [
       "2.999378523327323e-06"
      ]
     },
     "execution_count": 6,
     "metadata": {},
     "output_type": "execute_result"
    }
   ],
   "source": [
    "h = 0.000001\n",
    "x = 2/3\n",
    "(f(x + h) - f(x))/h"
   ]
  },
  {
   "cell_type": "code",
   "execution_count": null,
   "metadata": {},
   "outputs": [
    {
     "name": "stdout",
     "output_type": "stream",
     "text": [
      "4.0\n"
     ]
    }
   ],
   "source": [
    "# lets get more complex\n",
    "a = 2.0\n",
    "b = -3.0\n",
    "c = 10.0\n",
    "d = a*b + c\n",
    "print(d)"
   ]
  },
  {
   "cell_type": "code",
   "execution_count": null,
   "metadata": {},
   "outputs": [
    {
     "name": "stdout",
     "output_type": "stream",
     "text": [
      "d1 4.0\n",
      "d2 4.000000999999999\n",
      "slope 0.9999999992515995\n"
     ]
    }
   ],
   "source": [
    "h = 0.000001\n",
    "\n",
    "# inputs\n",
    "a = 2.0\n",
    "b = -3.0\n",
    "c = 10.0\n",
    "\n",
    "d1 = a*b + c\n",
    "c += h\n",
    "d2 = a*b + c\n",
    "\n",
    "print('d1', d1)\n",
    "print('d2', d2)\n",
    "print('slope', (d2 - d1)/h)\n"
   ]
  },
  {
   "cell_type": "code",
   "execution_count": null,
   "metadata": {},
   "outputs": [
    {
     "data": {
      "text/plain": [
       "Value(data=-8.0)"
      ]
     },
     "execution_count": 9,
     "metadata": {},
     "output_type": "execute_result"
    }
   ],
   "source": [
    "class Value:\n",
    "  \n",
    "  def __init__(self, data, _children=(), _op='', label=''):\n",
    "    self.data = data\n",
    "    self.grad = 0.0\n",
    "    self._backward = lambda: None\n",
    "    self._prev = set(_children)\n",
    "    self._op = _op\n",
    "    self.label = label\n",
    "\n",
    "  def __repr__(self):\n",
    "    return f\"Value(data={self.data})\"\n",
    "  \n",
    "  def __add__(self, other):\n",
    "    out = Value(self.data + other.data, (self, other), '+')\n",
    "    \n",
    "    def _backward():\n",
    "      self.grad += 1.0 * out.grad\n",
    "      other.grad += 1.0 * out.grad\n",
    "    out._backward = _backward\n",
    "    \n",
    "    return out\n",
    "\n",
    "  def __mul__(self, other):\n",
    "    out = Value(self.data * other.data, (self, other), '*')\n",
    "    \n",
    "    def _backward():\n",
    "      self.grad += other.data * out.grad\n",
    "      other.grad += self.data * out.grad\n",
    "    out._backward = _backward\n",
    "      \n",
    "    return out\n",
    "  \n",
    "  def tanh(self):\n",
    "    x = self.data\n",
    "    t = (math.exp(2*x) - 1)/(math.exp(2*x) + 1)\n",
    "    out = Value(t, (self, ), 'tanh')\n",
    "    \n",
    "    def _backward():\n",
    "      self.grad += (1 - t**2) * out.grad\n",
    "    out._backward = _backward\n",
    "    \n",
    "    return out\n",
    "  \n",
    "  def backward(self):\n",
    "    \n",
    "    topo = []\n",
    "    visited = set()\n",
    "    def build_topo(v):\n",
    "      if v not in visited:\n",
    "        visited.add(v)\n",
    "        for child in v._prev:\n",
    "          build_topo(child)\n",
    "        topo.append(v)\n",
    "    build_topo(self)\n",
    "    \n",
    "    self.grad = 1.0\n",
    "    for node in reversed(topo):\n",
    "      node._backward()\n",
    "\n",
    "\n",
    "a = Value(2.0, label='a')\n",
    "b = Value(-3.0, label='b')\n",
    "c = Value(10.0, label='c')\n",
    "e = a*b; e.label = 'e'\n",
    "d = e + c; d.label = 'd'\n",
    "f = Value(-2.0, label='f')\n",
    "L = d * f; L.label = 'L'\n",
    "L"
   ]
  },
  {
   "cell_type": "code",
   "execution_count": null,
   "metadata": {},
   "outputs": [],
   "source": [
    "from graphviz import Digraph\n",
    "\n",
    "def trace(root):\n",
    "  # builds a set of all nodes and edges in a graph\n",
    "  nodes, edges = set(), set()\n",
    "  def build(v):\n",
    "    if v not in nodes:\n",
    "      nodes.add(v)\n",
    "      for child in v._prev:\n",
    "        edges.add((child, v))\n",
    "        build(child)\n",
    "  build(root)\n",
    "  return nodes, edges\n",
    "\n",
    "def draw_dot(root):\n",
    "  dot = Digraph(format='svg', graph_attr={'rankdir': 'LR'}) # LR = left to right\n",
    "  \n",
    "  nodes, edges = trace(root)\n",
    "  for n in nodes:\n",
    "    uid = str(id(n))\n",
    "    # for any value in the graph, create a rectangular ('record') node for it\n",
    "    dot.node(name = uid, label = \"{ %s | data %.4f | grad (dL/d%s) %.4f }\" % (n.label, n.data, n.label, n.grad), shape='record')\n",
    "    if n._op:\n",
    "      # if this value is a result of some operation, create an op node for it\n",
    "      dot.node(name = uid + n._op, label = n._op)\n",
    "      # and connect this node to it\n",
    "      dot.edge(uid + n._op, uid)\n",
    "\n",
    "  for n1, n2 in edges:\n",
    "    # connect n1 to the op node of n2\n",
    "    dot.edge(str(id(n1)), str(id(n2)) + n2._op)\n",
    "\n",
    "  return dot\n"
   ]
  },
  {
   "cell_type": "code",
   "execution_count": null,
   "metadata": {},
   "outputs": [
    {
     "data": {
      "image/svg+xml": [
       "<?xml version=\"1.0\" encoding=\"UTF-8\" standalone=\"no\"?>\n",
       "<!DOCTYPE svg PUBLIC \"-//W3C//DTD SVG 1.1//EN\"\n",
       " \"http://www.w3.org/Graphics/SVG/1.1/DTD/svg11.dtd\">\n",
       "<!-- Generated by graphviz version 2.50.0 (0)\n",
       " -->\n",
       "<!-- Pages: 1 -->\n",
       "<svg width=\"1338pt\" height=\"154pt\"\n",
       " viewBox=\"0.00 0.00 1338.00 154.00\" xmlns=\"http://www.w3.org/2000/svg\" xmlns:xlink=\"http://www.w3.org/1999/xlink\">\n",
       "<g id=\"graph0\" class=\"graph\" transform=\"scale(1 1) rotate(0) translate(4 150)\">\n",
       "<polygon fill=\"white\" stroke=\"transparent\" points=\"-4,4 -4,-150 1334,-150 1334,4 -4,4\"/>\n",
       "<!-- 1253764986432 -->\n",
       "<g id=\"node1\" class=\"node\">\n",
       "<title>1253764986432</title>\n",
       "<polygon fill=\"none\" stroke=\"black\" points=\"733.5,-109.5 733.5,-145.5 964.5,-145.5 964.5,-109.5 733.5,-109.5\"/>\n",
       "<text text-anchor=\"middle\" x=\"744\" y=\"-123.8\" font-family=\"Times New Roman,serif\" font-size=\"14.00\">f</text>\n",
       "<polyline fill=\"none\" stroke=\"black\" points=\"754.5,-109.5 754.5,-145.5 \"/>\n",
       "<text text-anchor=\"middle\" x=\"797\" y=\"-123.8\" font-family=\"Times New Roman,serif\" font-size=\"14.00\">data &#45;2.0000</text>\n",
       "<polyline fill=\"none\" stroke=\"black\" points=\"839.5,-109.5 839.5,-145.5 \"/>\n",
       "<text text-anchor=\"middle\" x=\"902\" y=\"-123.8\" font-family=\"Times New Roman,serif\" font-size=\"14.00\">grad (dL/df) 4.0000</text>\n",
       "</g>\n",
       "<!-- 1253764982976* -->\n",
       "<g id=\"node5\" class=\"node\">\n",
       "<title>1253764982976*</title>\n",
       "<ellipse fill=\"none\" stroke=\"black\" cx=\"1029\" cy=\"-99.5\" rx=\"27\" ry=\"18\"/>\n",
       "<text text-anchor=\"middle\" x=\"1029\" y=\"-95.8\" font-family=\"Times New Roman,serif\" font-size=\"14.00\">*</text>\n",
       "</g>\n",
       "<!-- 1253764986432&#45;&gt;1253764982976* -->\n",
       "<g id=\"edge7\" class=\"edge\">\n",
       "<title>1253764986432&#45;&gt;1253764982976*</title>\n",
       "<path fill=\"none\" stroke=\"black\" d=\"M964.49,-109.49C974.46,-107.92 983.96,-106.43 992.43,-105.1\"/>\n",
       "<polygon fill=\"black\" stroke=\"black\" points=\"993.24,-108.51 1002.57,-103.5 992.15,-101.6 993.24,-108.51\"/>\n",
       "</g>\n",
       "<!-- 1253764986480 -->\n",
       "<g id=\"node2\" class=\"node\">\n",
       "<title>1253764986480</title>\n",
       "<polygon fill=\"none\" stroke=\"black\" points=\"5,-55.5 5,-91.5 234,-91.5 234,-55.5 5,-55.5\"/>\n",
       "<text text-anchor=\"middle\" x=\"16.5\" y=\"-69.8\" font-family=\"Times New Roman,serif\" font-size=\"14.00\">a</text>\n",
       "<polyline fill=\"none\" stroke=\"black\" points=\"28,-55.5 28,-91.5 \"/>\n",
       "<text text-anchor=\"middle\" x=\"68\" y=\"-69.8\" font-family=\"Times New Roman,serif\" font-size=\"14.00\">data 2.0000</text>\n",
       "<polyline fill=\"none\" stroke=\"black\" points=\"108,-55.5 108,-91.5 \"/>\n",
       "<text text-anchor=\"middle\" x=\"171\" y=\"-69.8\" font-family=\"Times New Roman,serif\" font-size=\"14.00\">grad (dL/da) 6.0000</text>\n",
       "</g>\n",
       "<!-- 1253764988736* -->\n",
       "<g id=\"node8\" class=\"node\">\n",
       "<title>1253764988736*</title>\n",
       "<ellipse fill=\"none\" stroke=\"black\" cx=\"302\" cy=\"-45.5\" rx=\"27\" ry=\"18\"/>\n",
       "<text text-anchor=\"middle\" x=\"302\" y=\"-41.8\" font-family=\"Times New Roman,serif\" font-size=\"14.00\">*</text>\n",
       "</g>\n",
       "<!-- 1253764986480&#45;&gt;1253764988736* -->\n",
       "<g id=\"edge8\" class=\"edge\">\n",
       "<title>1253764986480&#45;&gt;1253764988736*</title>\n",
       "<path fill=\"none\" stroke=\"black\" d=\"M234.04,-55.89C245.23,-54.15 255.9,-52.5 265.31,-51.04\"/>\n",
       "<polygon fill=\"black\" stroke=\"black\" points=\"266.01,-54.47 275.35,-49.48 264.93,-47.55 266.01,-54.47\"/>\n",
       "</g>\n",
       "<!-- 1253764973184 -->\n",
       "<g id=\"node3\" class=\"node\">\n",
       "<title>1253764973184</title>\n",
       "<polygon fill=\"none\" stroke=\"black\" points=\"365,-82.5 365,-118.5 606,-118.5 606,-82.5 365,-82.5\"/>\n",
       "<text text-anchor=\"middle\" x=\"376.5\" y=\"-96.8\" font-family=\"Times New Roman,serif\" font-size=\"14.00\">c</text>\n",
       "<polyline fill=\"none\" stroke=\"black\" points=\"388,-82.5 388,-118.5 \"/>\n",
       "<text text-anchor=\"middle\" x=\"431.5\" y=\"-96.8\" font-family=\"Times New Roman,serif\" font-size=\"14.00\">data 10.0000</text>\n",
       "<polyline fill=\"none\" stroke=\"black\" points=\"475,-82.5 475,-118.5 \"/>\n",
       "<text text-anchor=\"middle\" x=\"540.5\" y=\"-96.8\" font-family=\"Times New Roman,serif\" font-size=\"14.00\">grad (dL/dc) &#45;2.0000</text>\n",
       "</g>\n",
       "<!-- 1253764986864+ -->\n",
       "<g id=\"node10\" class=\"node\">\n",
       "<title>1253764986864+</title>\n",
       "<ellipse fill=\"none\" stroke=\"black\" cx=\"669\" cy=\"-72.5\" rx=\"27\" ry=\"18\"/>\n",
       "<text text-anchor=\"middle\" x=\"669\" y=\"-68.8\" font-family=\"Times New Roman,serif\" font-size=\"14.00\">+</text>\n",
       "</g>\n",
       "<!-- 1253764973184&#45;&gt;1253764986864+ -->\n",
       "<g id=\"edge6\" class=\"edge\">\n",
       "<title>1253764973184&#45;&gt;1253764986864+</title>\n",
       "<path fill=\"none\" stroke=\"black\" d=\"M603.24,-82.49C613.61,-80.89 623.49,-79.37 632.27,-78.01\"/>\n",
       "<polygon fill=\"black\" stroke=\"black\" points=\"633.03,-81.44 642.38,-76.45 631.97,-74.52 633.03,-81.44\"/>\n",
       "</g>\n",
       "<!-- 1253764982976 -->\n",
       "<g id=\"node4\" class=\"node\">\n",
       "<title>1253764982976</title>\n",
       "<polygon fill=\"none\" stroke=\"black\" points=\"1092,-81.5 1092,-117.5 1330,-117.5 1330,-81.5 1092,-81.5\"/>\n",
       "<text text-anchor=\"middle\" x=\"1104.5\" y=\"-95.8\" font-family=\"Times New Roman,serif\" font-size=\"14.00\">L</text>\n",
       "<polyline fill=\"none\" stroke=\"black\" points=\"1117,-81.5 1117,-117.5 \"/>\n",
       "<text text-anchor=\"middle\" x=\"1159.5\" y=\"-95.8\" font-family=\"Times New Roman,serif\" font-size=\"14.00\">data &#45;8.0000</text>\n",
       "<polyline fill=\"none\" stroke=\"black\" points=\"1202,-81.5 1202,-117.5 \"/>\n",
       "<text text-anchor=\"middle\" x=\"1266\" y=\"-95.8\" font-family=\"Times New Roman,serif\" font-size=\"14.00\">grad (dL/dL) 1.0000</text>\n",
       "</g>\n",
       "<!-- 1253764982976*&#45;&gt;1253764982976 -->\n",
       "<g id=\"edge1\" class=\"edge\">\n",
       "<title>1253764982976*&#45;&gt;1253764982976</title>\n",
       "<path fill=\"none\" stroke=\"black\" d=\"M1056.17,-99.5C1063.7,-99.5 1072.45,-99.5 1081.89,-99.5\"/>\n",
       "<polygon fill=\"black\" stroke=\"black\" points=\"1081.95,-103 1091.95,-99.5 1081.95,-96 1081.95,-103\"/>\n",
       "</g>\n",
       "<!-- 1253764972752 -->\n",
       "<g id=\"node6\" class=\"node\">\n",
       "<title>1253764972752</title>\n",
       "<polygon fill=\"none\" stroke=\"black\" points=\"0,-0.5 0,-36.5 239,-36.5 239,-0.5 0,-0.5\"/>\n",
       "<text text-anchor=\"middle\" x=\"11.5\" y=\"-14.8\" font-family=\"Times New Roman,serif\" font-size=\"14.00\">b</text>\n",
       "<polyline fill=\"none\" stroke=\"black\" points=\"23,-0.5 23,-36.5 \"/>\n",
       "<text text-anchor=\"middle\" x=\"65.5\" y=\"-14.8\" font-family=\"Times New Roman,serif\" font-size=\"14.00\">data &#45;3.0000</text>\n",
       "<polyline fill=\"none\" stroke=\"black\" points=\"108,-0.5 108,-36.5 \"/>\n",
       "<text text-anchor=\"middle\" x=\"173.5\" y=\"-14.8\" font-family=\"Times New Roman,serif\" font-size=\"14.00\">grad (dL/db) &#45;4.0000</text>\n",
       "</g>\n",
       "<!-- 1253764972752&#45;&gt;1253764988736* -->\n",
       "<g id=\"edge4\" class=\"edge\">\n",
       "<title>1253764972752&#45;&gt;1253764988736*</title>\n",
       "<path fill=\"none\" stroke=\"black\" d=\"M239.13,-36.25C248.53,-37.65 257.47,-38.99 265.48,-40.19\"/>\n",
       "<polygon fill=\"black\" stroke=\"black\" points=\"265.03,-43.66 275.44,-41.68 266.07,-36.74 265.03,-43.66\"/>\n",
       "</g>\n",
       "<!-- 1253764988736 -->\n",
       "<g id=\"node7\" class=\"node\">\n",
       "<title>1253764988736</title>\n",
       "<polygon fill=\"none\" stroke=\"black\" points=\"366,-27.5 366,-63.5 605,-63.5 605,-27.5 366,-27.5\"/>\n",
       "<text text-anchor=\"middle\" x=\"377.5\" y=\"-41.8\" font-family=\"Times New Roman,serif\" font-size=\"14.00\">e</text>\n",
       "<polyline fill=\"none\" stroke=\"black\" points=\"389,-27.5 389,-63.5 \"/>\n",
       "<text text-anchor=\"middle\" x=\"431.5\" y=\"-41.8\" font-family=\"Times New Roman,serif\" font-size=\"14.00\">data &#45;6.0000</text>\n",
       "<polyline fill=\"none\" stroke=\"black\" points=\"474,-27.5 474,-63.5 \"/>\n",
       "<text text-anchor=\"middle\" x=\"539.5\" y=\"-41.8\" font-family=\"Times New Roman,serif\" font-size=\"14.00\">grad (dL/de) &#45;2.0000</text>\n",
       "</g>\n",
       "<!-- 1253764988736&#45;&gt;1253764986864+ -->\n",
       "<g id=\"edge5\" class=\"edge\">\n",
       "<title>1253764988736&#45;&gt;1253764986864+</title>\n",
       "<path fill=\"none\" stroke=\"black\" d=\"M605.03,-63.13C614.87,-64.6 624.22,-65.99 632.57,-67.23\"/>\n",
       "<polygon fill=\"black\" stroke=\"black\" points=\"632.15,-70.71 642.56,-68.72 633.18,-63.78 632.15,-70.71\"/>\n",
       "</g>\n",
       "<!-- 1253764988736*&#45;&gt;1253764988736 -->\n",
       "<g id=\"edge2\" class=\"edge\">\n",
       "<title>1253764988736*&#45;&gt;1253764988736</title>\n",
       "<path fill=\"none\" stroke=\"black\" d=\"M329,-45.5C336.8,-45.5 345.92,-45.5 355.77,-45.5\"/>\n",
       "<polygon fill=\"black\" stroke=\"black\" points=\"355.84,-49 365.84,-45.5 355.84,-42 355.84,-49\"/>\n",
       "</g>\n",
       "<!-- 1253764986864 -->\n",
       "<g id=\"node9\" class=\"node\">\n",
       "<title>1253764986864</title>\n",
       "<polygon fill=\"none\" stroke=\"black\" points=\"732,-54.5 732,-90.5 966,-90.5 966,-54.5 732,-54.5\"/>\n",
       "<text text-anchor=\"middle\" x=\"743.5\" y=\"-68.8\" font-family=\"Times New Roman,serif\" font-size=\"14.00\">d</text>\n",
       "<polyline fill=\"none\" stroke=\"black\" points=\"755,-54.5 755,-90.5 \"/>\n",
       "<text text-anchor=\"middle\" x=\"795\" y=\"-68.8\" font-family=\"Times New Roman,serif\" font-size=\"14.00\">data 4.0000</text>\n",
       "<polyline fill=\"none\" stroke=\"black\" points=\"835,-54.5 835,-90.5 \"/>\n",
       "<text text-anchor=\"middle\" x=\"900.5\" y=\"-68.8\" font-family=\"Times New Roman,serif\" font-size=\"14.00\">grad (dL/dd) &#45;2.0000</text>\n",
       "</g>\n",
       "<!-- 1253764986864&#45;&gt;1253764982976* -->\n",
       "<g id=\"edge9\" class=\"edge\">\n",
       "<title>1253764986864&#45;&gt;1253764982976*</title>\n",
       "<path fill=\"none\" stroke=\"black\" d=\"M966.24,-90.13C975.6,-91.55 984.51,-92.9 992.51,-94.12\"/>\n",
       "<polygon fill=\"black\" stroke=\"black\" points=\"992.04,-97.59 1002.45,-95.62 993.09,-90.66 992.04,-97.59\"/>\n",
       "</g>\n",
       "<!-- 1253764986864+&#45;&gt;1253764986864 -->\n",
       "<g id=\"edge3\" class=\"edge\">\n",
       "<title>1253764986864+&#45;&gt;1253764986864</title>\n",
       "<path fill=\"none\" stroke=\"black\" d=\"M696.26,-72.5C703.65,-72.5 712.21,-72.5 721.43,-72.5\"/>\n",
       "<polygon fill=\"black\" stroke=\"black\" points=\"721.66,-76 731.66,-72.5 721.66,-69 721.66,-76\"/>\n",
       "</g>\n",
       "</g>\n",
       "</svg>\n"
      ],
      "text/plain": [
       "<graphviz.graphs.Digraph at 0x123ea3751e0>"
      ]
     },
     "execution_count": 11,
     "metadata": {},
     "output_type": "execute_result"
    }
   ],
   "source": [
    "L.backward()\n",
    "draw_dot(L)"
   ]
  },
  {
   "cell_type": "code",
   "execution_count": null,
   "metadata": {},
   "outputs": [
    {
     "name": "stdout",
     "output_type": "stream",
     "text": [
      "-7.286496\n"
     ]
    }
   ],
   "source": [
    "a.data += 0.01 * a.grad\n",
    "b.data += 0.01 * b.grad\n",
    "c.data += 0.01 * c.grad\n",
    "f.data += 0.01 * f.grad\n",
    "\n",
    "e = a * b\n",
    "d = e + c\n",
    "L = d * f\n",
    "\n",
    "print(L.data)\n"
   ]
  },
  {
   "cell_type": "code",
   "execution_count": null,
   "metadata": {},
   "outputs": [
    {
     "name": "stdout",
     "output_type": "stream",
     "text": [
      "-3.9999999999995595\n"
     ]
    }
   ],
   "source": [
    "def lol():\n",
    "  \n",
    "  h = 0.001\n",
    "  \n",
    "  a = Value(2.0, label='a')\n",
    "  b = Value(-3.0, label='b')\n",
    "  c = Value(10.0, label='c')\n",
    "  e = a*b; e.label = 'e'\n",
    "  d = e + c; d.label = 'd'\n",
    "  f = Value(-2.0, label='f')\n",
    "  L = d * f; L.label = 'L'\n",
    "  L1 = L.data\n",
    "  \n",
    "  a = Value(2.0, label='a')\n",
    "  b = Value(-3.0, label='b')\n",
    "  b.data += h\n",
    "  c = Value(10.0, label='c')\n",
    "  e = a*b; e.label = 'e'\n",
    "  d = e + c; d.label = 'd'\n",
    "  f = Value(-2.0, label='f')\n",
    "  L = d * f; L.label = 'L'\n",
    "  L2 = L.data\n",
    "  \n",
    "  print((L2 - L1)/h)\n",
    "  \n",
    "lol()"
   ]
  },
  {
   "cell_type": "code",
   "execution_count": null,
   "metadata": {},
   "outputs": [
    {
     "data": {
      "image/png": "[encoded data removed]",
      "text/plain": [
       "<Figure size 640x480 with 1 Axes>"
      ]
     },
     "metadata": {},
     "output_type": "display_data"
    }
   ],
   "source": [
    "plt.plot(np.arange(-5,5,0.2), np.tanh(np.arange(-5,5,0.2))); plt.grid();"
   ]
  },
  {
   "cell_type": "code",
   "execution_count": null,
   "metadata": {},
   "outputs": [],
   "source": [
    "# inputs x1,x2\n",
    "x1 = Value(2.0, label='x1')\n",
    "x2 = Value(0.0, label='x2')\n",
    "# weights w1,w2\n",
    "w1 = Value(-3.0, label='w1')\n",
    "w2 = Value(1.0, label='w2')\n",
    "# bias of the neuron\n",
    "b = Value(6.8813735870195432, label='b')\n",
    "# x1*w1 + x2*w2 + b\n",
    "x1w1 = x1*w1; x1w1.label = 'x1*w1'\n",
    "x2w2 = x2*w2; x2w2.label = 'x2*w2'\n",
    "x1w1x2w2 = x1w1 + x2w2; x1w1x2w2.label = 'x1*w1 + x2*w2'\n",
    "n = x1w1x2w2 + b; n.label = 'n'\n",
    "o = n.tanh(); o.label = 'o'"
   ]
  },
  {
   "cell_type": "code",
   "execution_count": null,
   "metadata": {},
   "outputs": [
    {
     "data": {
      "image/svg+xml": [
       "<?xml version=\"1.0\" encoding=\"UTF-8\" standalone=\"no\"?>\n",
       "<!DOCTYPE svg PUBLIC \"-//W3C//DTD SVG 1.1//EN\"\n",
       " \"http://www.w3.org/Graphics/SVG/1.1/DTD/svg11.dtd\">\n",
       "<!-- Generated by graphviz version 2.50.0 (0)\n",
       " -->\n",
       "<!-- Pages: 1 -->\n",
       "<svg width=\"1922pt\" height=\"210pt\"\n",
       " viewBox=\"0.00 0.00 1922.00 210.00\" xmlns=\"http://www.w3.org/2000/svg\" xmlns:xlink=\"http://www.w3.org/1999/xlink\">\n",
       "<g id=\"graph0\" class=\"graph\" transform=\"scale(1 1) rotate(0) translate(4 206)\">\n",
       "<polygon fill=\"white\" stroke=\"transparent\" points=\"-4,4 -4,-206 1918,-206 1918,4 -4,4\"/>\n",
       "<!-- 1253765789200 -->\n",
       "<g id=\"node1\" class=\"node\">\n",
       "<title>1253765789200</title>\n",
       "<polygon fill=\"none\" stroke=\"black\" points=\"5.5,-165.5 5.5,-201.5 249.5,-201.5 249.5,-165.5 5.5,-165.5\"/>\n",
       "<text text-anchor=\"middle\" x=\"20.5\" y=\"-179.8\" font-family=\"Times New Roman,serif\" font-size=\"14.00\">x1</text>\n",
       "<polyline fill=\"none\" stroke=\"black\" points=\"35.5,-165.5 35.5,-201.5 \"/>\n",
       "<text text-anchor=\"middle\" x=\"75.5\" y=\"-179.8\" font-family=\"Times New Roman,serif\" font-size=\"14.00\">data 2.0000</text>\n",
       "<polyline fill=\"none\" stroke=\"black\" points=\"115.5,-165.5 115.5,-201.5 \"/>\n",
       "<text text-anchor=\"middle\" x=\"182.5\" y=\"-179.8\" font-family=\"Times New Roman,serif\" font-size=\"14.00\">grad (dL/dx1) 0.0000</text>\n",
       "</g>\n",
       "<!-- 1253765788816* -->\n",
       "<g id=\"node3\" class=\"node\">\n",
       "<title>1253765788816*</title>\n",
       "<ellipse fill=\"none\" stroke=\"black\" cx=\"318\" cy=\"-128.5\" rx=\"27\" ry=\"18\"/>\n",
       "<text text-anchor=\"middle\" x=\"318\" y=\"-124.8\" font-family=\"Times New Roman,serif\" font-size=\"14.00\">*</text>\n",
       "</g>\n",
       "<!-- 1253765789200&#45;&gt;1253765788816* -->\n",
       "<g id=\"edge14\" class=\"edge\">\n",
       "<title>1253765789200&#45;&gt;1253765788816*</title>\n",
       "<path fill=\"none\" stroke=\"black\" d=\"M223.72,-165.48C234.36,-162.79 244.97,-159.79 255,-156.5 265.71,-152.98 277.06,-148.19 287.08,-143.57\"/>\n",
       "<polygon fill=\"black\" stroke=\"black\" points=\"288.68,-146.69 296.21,-139.24 285.68,-140.36 288.68,-146.69\"/>\n",
       "</g>\n",
       "<!-- 1253765788816 -->\n",
       "<g id=\"node2\" class=\"node\">\n",
       "<title>1253765788816</title>\n",
       "<polygon fill=\"none\" stroke=\"black\" points=\"381,-110.5 381,-146.5 676,-146.5 676,-110.5 381,-110.5\"/>\n",
       "<text text-anchor=\"middle\" x=\"407.5\" y=\"-124.8\" font-family=\"Times New Roman,serif\" font-size=\"14.00\">x1*w1</text>\n",
       "<polyline fill=\"none\" stroke=\"black\" points=\"434,-110.5 434,-146.5 \"/>\n",
       "<text text-anchor=\"middle\" x=\"476.5\" y=\"-124.8\" font-family=\"Times New Roman,serif\" font-size=\"14.00\">data &#45;6.0000</text>\n",
       "<polyline fill=\"none\" stroke=\"black\" points=\"519,-110.5 519,-146.5 \"/>\n",
       "<text text-anchor=\"middle\" x=\"597.5\" y=\"-124.8\" font-family=\"Times New Roman,serif\" font-size=\"14.00\">grad (dL/dx1*w1) 0.0000</text>\n",
       "</g>\n",
       "<!-- 1253765789680+ -->\n",
       "<g id=\"node15\" class=\"node\">\n",
       "<title>1253765789680+</title>\n",
       "<ellipse fill=\"none\" stroke=\"black\" cx=\"739\" cy=\"-100.5\" rx=\"27\" ry=\"18\"/>\n",
       "<text text-anchor=\"middle\" x=\"739\" y=\"-96.8\" font-family=\"Times New Roman,serif\" font-size=\"14.00\">+</text>\n",
       "</g>\n",
       "<!-- 1253765788816&#45;&gt;1253765789680+ -->\n",
       "<g id=\"edge10\" class=\"edge\">\n",
       "<title>1253765788816&#45;&gt;1253765789680+</title>\n",
       "<path fill=\"none\" stroke=\"black\" d=\"M663.61,-110.49C677.63,-108.61 690.86,-106.83 702.17,-105.31\"/>\n",
       "<polygon fill=\"black\" stroke=\"black\" points=\"702.94,-108.74 712.38,-103.94 702.01,-101.8 702.94,-108.74\"/>\n",
       "</g>\n",
       "<!-- 1253765788816*&#45;&gt;1253765788816 -->\n",
       "<g id=\"edge1\" class=\"edge\">\n",
       "<title>1253765788816*&#45;&gt;1253765788816</title>\n",
       "<path fill=\"none\" stroke=\"black\" d=\"M345.41,-128.5C352.81,-128.5 361.42,-128.5 370.81,-128.5\"/>\n",
       "<polygon fill=\"black\" stroke=\"black\" points=\"370.84,-132 380.84,-128.5 370.84,-125 370.84,-132\"/>\n",
       "</g>\n",
       "<!-- 1253765784736 -->\n",
       "<g id=\"node4\" class=\"node\">\n",
       "<title>1253765784736</title>\n",
       "<polygon fill=\"none\" stroke=\"black\" points=\"5.5,-55.5 5.5,-91.5 249.5,-91.5 249.5,-55.5 5.5,-55.5\"/>\n",
       "<text text-anchor=\"middle\" x=\"20.5\" y=\"-69.8\" font-family=\"Times New Roman,serif\" font-size=\"14.00\">x2</text>\n",
       "<polyline fill=\"none\" stroke=\"black\" points=\"35.5,-55.5 35.5,-91.5 \"/>\n",
       "<text text-anchor=\"middle\" x=\"75.5\" y=\"-69.8\" font-family=\"Times New Roman,serif\" font-size=\"14.00\">data 0.0000</text>\n",
       "<polyline fill=\"none\" stroke=\"black\" points=\"115.5,-55.5 115.5,-91.5 \"/>\n",
       "<text text-anchor=\"middle\" x=\"182.5\" y=\"-69.8\" font-family=\"Times New Roman,serif\" font-size=\"14.00\">grad (dL/dx2) 0.0000</text>\n",
       "</g>\n",
       "<!-- 1253765788912* -->\n",
       "<g id=\"node6\" class=\"node\">\n",
       "<title>1253765788912*</title>\n",
       "<ellipse fill=\"none\" stroke=\"black\" cx=\"318\" cy=\"-73.5\" rx=\"27\" ry=\"18\"/>\n",
       "<text text-anchor=\"middle\" x=\"318\" y=\"-69.8\" font-family=\"Times New Roman,serif\" font-size=\"14.00\">*</text>\n",
       "</g>\n",
       "<!-- 1253765784736&#45;&gt;1253765788912* -->\n",
       "<g id=\"edge7\" class=\"edge\">\n",
       "<title>1253765784736&#45;&gt;1253765788912*</title>\n",
       "<path fill=\"none\" stroke=\"black\" d=\"M249.75,-73.5C260.74,-73.5 271.2,-73.5 280.45,-73.5\"/>\n",
       "<polygon fill=\"black\" stroke=\"black\" points=\"280.71,-77 290.71,-73.5 280.71,-70 280.71,-77\"/>\n",
       "</g>\n",
       "<!-- 1253765788912 -->\n",
       "<g id=\"node5\" class=\"node\">\n",
       "<title>1253765788912</title>\n",
       "<polygon fill=\"none\" stroke=\"black\" points=\"383.5,-55.5 383.5,-91.5 673.5,-91.5 673.5,-55.5 383.5,-55.5\"/>\n",
       "<text text-anchor=\"middle\" x=\"410\" y=\"-69.8\" font-family=\"Times New Roman,serif\" font-size=\"14.00\">x2*w2</text>\n",
       "<polyline fill=\"none\" stroke=\"black\" points=\"436.5,-55.5 436.5,-91.5 \"/>\n",
       "<text text-anchor=\"middle\" x=\"476.5\" y=\"-69.8\" font-family=\"Times New Roman,serif\" font-size=\"14.00\">data 0.0000</text>\n",
       "<polyline fill=\"none\" stroke=\"black\" points=\"516.5,-55.5 516.5,-91.5 \"/>\n",
       "<text text-anchor=\"middle\" x=\"595\" y=\"-69.8\" font-family=\"Times New Roman,serif\" font-size=\"14.00\">grad (dL/dx2*w2) 0.0000</text>\n",
       "</g>\n",
       "<!-- 1253765788912&#45;&gt;1253765789680+ -->\n",
       "<g id=\"edge11\" class=\"edge\">\n",
       "<title>1253765788912&#45;&gt;1253765789680+</title>\n",
       "<path fill=\"none\" stroke=\"black\" d=\"M668.57,-91.51C680.75,-93.09 692.21,-94.57 702.18,-95.86\"/>\n",
       "<polygon fill=\"black\" stroke=\"black\" points=\"702.01,-99.37 712.37,-97.18 702.9,-92.43 702.01,-99.37\"/>\n",
       "</g>\n",
       "<!-- 1253765788912*&#45;&gt;1253765788912 -->\n",
       "<g id=\"edge2\" class=\"edge\">\n",
       "<title>1253765788912*&#45;&gt;1253765788912</title>\n",
       "<path fill=\"none\" stroke=\"black\" d=\"M345.41,-73.5C353.46,-73.5 362.96,-73.5 373.31,-73.5\"/>\n",
       "<polygon fill=\"black\" stroke=\"black\" points=\"373.49,-77 383.49,-73.5 373.49,-70 373.49,-77\"/>\n",
       "</g>\n",
       "<!-- 1253765790496 -->\n",
       "<g id=\"node7\" class=\"node\">\n",
       "<title>1253765790496</title>\n",
       "<polygon fill=\"none\" stroke=\"black\" points=\"1328,-54.5 1328,-90.5 1558,-90.5 1558,-54.5 1328,-54.5\"/>\n",
       "<text text-anchor=\"middle\" x=\"1339.5\" y=\"-68.8\" font-family=\"Times New Roman,serif\" font-size=\"14.00\">n</text>\n",
       "<polyline fill=\"none\" stroke=\"black\" points=\"1351,-54.5 1351,-90.5 \"/>\n",
       "<text text-anchor=\"middle\" x=\"1391\" y=\"-68.8\" font-family=\"Times New Roman,serif\" font-size=\"14.00\">data 0.8814</text>\n",
       "<polyline fill=\"none\" stroke=\"black\" points=\"1431,-54.5 1431,-90.5 \"/>\n",
       "<text text-anchor=\"middle\" x=\"1494.5\" y=\"-68.8\" font-family=\"Times New Roman,serif\" font-size=\"14.00\">grad (dL/dn) 0.0000</text>\n",
       "</g>\n",
       "<!-- 1253765790688tanh -->\n",
       "<g id=\"node11\" class=\"node\">\n",
       "<title>1253765790688tanh</title>\n",
       "<ellipse fill=\"none\" stroke=\"black\" cx=\"1621\" cy=\"-72.5\" rx=\"27\" ry=\"18\"/>\n",
       "<text text-anchor=\"middle\" x=\"1621\" y=\"-68.8\" font-family=\"Times New Roman,serif\" font-size=\"14.00\">tanh</text>\n",
       "</g>\n",
       "<!-- 1253765790496&#45;&gt;1253765790688tanh -->\n",
       "<g id=\"edge12\" class=\"edge\">\n",
       "<title>1253765790496&#45;&gt;1253765790688tanh</title>\n",
       "<path fill=\"none\" stroke=\"black\" d=\"M1558.44,-72.5C1567.47,-72.5 1576.09,-72.5 1583.87,-72.5\"/>\n",
       "<polygon fill=\"black\" stroke=\"black\" points=\"1583.91,-76 1593.91,-72.5 1583.91,-69 1583.91,-76\"/>\n",
       "</g>\n",
       "<!-- 1253765790496+ -->\n",
       "<g id=\"node8\" class=\"node\">\n",
       "<title>1253765790496+</title>\n",
       "<ellipse fill=\"none\" stroke=\"black\" cx=\"1265\" cy=\"-72.5\" rx=\"27\" ry=\"18\"/>\n",
       "<text text-anchor=\"middle\" x=\"1265\" y=\"-68.8\" font-family=\"Times New Roman,serif\" font-size=\"14.00\">+</text>\n",
       "</g>\n",
       "<!-- 1253765790496+&#45;&gt;1253765790496 -->\n",
       "<g id=\"edge3\" class=\"edge\">\n",
       "<title>1253765790496+&#45;&gt;1253765790496</title>\n",
       "<path fill=\"none\" stroke=\"black\" d=\"M1292.35,-72.5C1299.74,-72.5 1308.3,-72.5 1317.51,-72.5\"/>\n",
       "<polygon fill=\"black\" stroke=\"black\" points=\"1317.74,-76 1327.74,-72.5 1317.74,-69 1317.74,-76\"/>\n",
       "</g>\n",
       "<!-- 1253765787424 -->\n",
       "<g id=\"node9\" class=\"node\">\n",
       "<title>1253765787424</title>\n",
       "<polygon fill=\"none\" stroke=\"black\" points=\"0,-110.5 0,-146.5 255,-146.5 255,-110.5 0,-110.5\"/>\n",
       "<text text-anchor=\"middle\" x=\"16.5\" y=\"-124.8\" font-family=\"Times New Roman,serif\" font-size=\"14.00\">w1</text>\n",
       "<polyline fill=\"none\" stroke=\"black\" points=\"33,-110.5 33,-146.5 \"/>\n",
       "<text text-anchor=\"middle\" x=\"75.5\" y=\"-124.8\" font-family=\"Times New Roman,serif\" font-size=\"14.00\">data &#45;3.0000</text>\n",
       "<polyline fill=\"none\" stroke=\"black\" points=\"118,-110.5 118,-146.5 \"/>\n",
       "<text text-anchor=\"middle\" x=\"186.5\" y=\"-124.8\" font-family=\"Times New Roman,serif\" font-size=\"14.00\">grad (dL/dw1) 0.0000</text>\n",
       "</g>\n",
       "<!-- 1253765787424&#45;&gt;1253765788816* -->\n",
       "<g id=\"edge9\" class=\"edge\">\n",
       "<title>1253765787424&#45;&gt;1253765788816*</title>\n",
       "<path fill=\"none\" stroke=\"black\" d=\"M255.02,-128.5C264.21,-128.5 272.93,-128.5 280.78,-128.5\"/>\n",
       "<polygon fill=\"black\" stroke=\"black\" points=\"280.89,-132 290.89,-128.5 280.89,-125 280.89,-132\"/>\n",
       "</g>\n",
       "<!-- 1253765790688 -->\n",
       "<g id=\"node10\" class=\"node\">\n",
       "<title>1253765790688</title>\n",
       "<polygon fill=\"none\" stroke=\"black\" points=\"1684,-54.5 1684,-90.5 1914,-90.5 1914,-54.5 1684,-54.5\"/>\n",
       "<text text-anchor=\"middle\" x=\"1695.5\" y=\"-68.8\" font-family=\"Times New Roman,serif\" font-size=\"14.00\">o</text>\n",
       "<polyline fill=\"none\" stroke=\"black\" points=\"1707,-54.5 1707,-90.5 \"/>\n",
       "<text text-anchor=\"middle\" x=\"1747\" y=\"-68.8\" font-family=\"Times New Roman,serif\" font-size=\"14.00\">data 0.7071</text>\n",
       "<polyline fill=\"none\" stroke=\"black\" points=\"1787,-54.5 1787,-90.5 \"/>\n",
       "<text text-anchor=\"middle\" x=\"1850.5\" y=\"-68.8\" font-family=\"Times New Roman,serif\" font-size=\"14.00\">grad (dL/do) 0.0000</text>\n",
       "</g>\n",
       "<!-- 1253765790688tanh&#45;&gt;1253765790688 -->\n",
       "<g id=\"edge4\" class=\"edge\">\n",
       "<title>1253765790688tanh&#45;&gt;1253765790688</title>\n",
       "<path fill=\"none\" stroke=\"black\" d=\"M1648.35,-72.5C1655.74,-72.5 1664.3,-72.5 1673.51,-72.5\"/>\n",
       "<polygon fill=\"black\" stroke=\"black\" points=\"1673.74,-76 1683.74,-72.5 1673.74,-69 1673.74,-76\"/>\n",
       "</g>\n",
       "<!-- 1253765791648 -->\n",
       "<g id=\"node12\" class=\"node\">\n",
       "<title>1253765791648</title>\n",
       "<polygon fill=\"none\" stroke=\"black\" points=\"2.5,-0.5 2.5,-36.5 252.5,-36.5 252.5,-0.5 2.5,-0.5\"/>\n",
       "<text text-anchor=\"middle\" x=\"19\" y=\"-14.8\" font-family=\"Times New Roman,serif\" font-size=\"14.00\">w2</text>\n",
       "<polyline fill=\"none\" stroke=\"black\" points=\"35.5,-0.5 35.5,-36.5 \"/>\n",
       "<text text-anchor=\"middle\" x=\"75.5\" y=\"-14.8\" font-family=\"Times New Roman,serif\" font-size=\"14.00\">data 1.0000</text>\n",
       "<polyline fill=\"none\" stroke=\"black\" points=\"115.5,-0.5 115.5,-36.5 \"/>\n",
       "<text text-anchor=\"middle\" x=\"184\" y=\"-14.8\" font-family=\"Times New Roman,serif\" font-size=\"14.00\">grad (dL/dw2) 0.0000</text>\n",
       "</g>\n",
       "<!-- 1253765791648&#45;&gt;1253765788912* -->\n",
       "<g id=\"edge6\" class=\"edge\">\n",
       "<title>1253765791648&#45;&gt;1253765788912*</title>\n",
       "<path fill=\"none\" stroke=\"black\" d=\"M219.93,-36.53C231.82,-39.52 243.77,-42.85 255,-46.5 265.47,-49.9 276.58,-54.43 286.47,-58.81\"/>\n",
       "<polygon fill=\"black\" stroke=\"black\" points=\"285.32,-62.13 295.87,-63.09 288.22,-55.76 285.32,-62.13\"/>\n",
       "</g>\n",
       "<!-- 1253765789152 -->\n",
       "<g id=\"node13\" class=\"node\">\n",
       "<title>1253765789152</title>\n",
       "<polygon fill=\"none\" stroke=\"black\" points=\"887,-27.5 887,-63.5 1117,-63.5 1117,-27.5 887,-27.5\"/>\n",
       "<text text-anchor=\"middle\" x=\"898.5\" y=\"-41.8\" font-family=\"Times New Roman,serif\" font-size=\"14.00\">b</text>\n",
       "<polyline fill=\"none\" stroke=\"black\" points=\"910,-27.5 910,-63.5 \"/>\n",
       "<text text-anchor=\"middle\" x=\"950\" y=\"-41.8\" font-family=\"Times New Roman,serif\" font-size=\"14.00\">data 6.8814</text>\n",
       "<polyline fill=\"none\" stroke=\"black\" points=\"990,-27.5 990,-63.5 \"/>\n",
       "<text text-anchor=\"middle\" x=\"1053.5\" y=\"-41.8\" font-family=\"Times New Roman,serif\" font-size=\"14.00\">grad (dL/db) 0.0000</text>\n",
       "</g>\n",
       "<!-- 1253765789152&#45;&gt;1253765790496+ -->\n",
       "<g id=\"edge8\" class=\"edge\">\n",
       "<title>1253765789152&#45;&gt;1253765790496+</title>\n",
       "<path fill=\"none\" stroke=\"black\" d=\"M1117.1,-57.3C1157.17,-61.45 1199.34,-65.81 1228.16,-68.79\"/>\n",
       "<polygon fill=\"black\" stroke=\"black\" points=\"1227.84,-72.28 1238.15,-69.83 1228.56,-65.32 1227.84,-72.28\"/>\n",
       "</g>\n",
       "<!-- 1253765789680 -->\n",
       "<g id=\"node14\" class=\"node\">\n",
       "<title>1253765789680</title>\n",
       "<polygon fill=\"none\" stroke=\"black\" points=\"802,-82.5 802,-118.5 1202,-118.5 1202,-82.5 802,-82.5\"/>\n",
       "<text text-anchor=\"middle\" x=\"855\" y=\"-96.8\" font-family=\"Times New Roman,serif\" font-size=\"14.00\">x1*w1 + x2*w2</text>\n",
       "<polyline fill=\"none\" stroke=\"black\" points=\"908,-82.5 908,-118.5 \"/>\n",
       "<text text-anchor=\"middle\" x=\"950.5\" y=\"-96.8\" font-family=\"Times New Roman,serif\" font-size=\"14.00\">data &#45;6.0000</text>\n",
       "<polyline fill=\"none\" stroke=\"black\" points=\"993,-82.5 993,-118.5 \"/>\n",
       "<text text-anchor=\"middle\" x=\"1097.5\" y=\"-96.8\" font-family=\"Times New Roman,serif\" font-size=\"14.00\">grad (dL/dx1*w1 + x2*w2) 0.0000</text>\n",
       "</g>\n",
       "<!-- 1253765789680&#45;&gt;1253765790496+ -->\n",
       "<g id=\"edge13\" class=\"edge\">\n",
       "<title>1253765789680&#45;&gt;1253765790496+</title>\n",
       "<path fill=\"none\" stroke=\"black\" d=\"M1170.88,-82.49C1192.1,-80.21 1211.89,-78.09 1227.72,-76.39\"/>\n",
       "<polygon fill=\"black\" stroke=\"black\" points=\"1228.44,-79.84 1238.01,-75.29 1227.69,-72.88 1228.44,-79.84\"/>\n",
       "</g>\n",
       "<!-- 1253765789680+&#45;&gt;1253765789680 -->\n",
       "<g id=\"edge5\" class=\"edge\">\n",
       "<title>1253765789680+&#45;&gt;1253765789680</title>\n",
       "<path fill=\"none\" stroke=\"black\" d=\"M766.46,-100.5C773.77,-100.5 782.32,-100.5 791.74,-100.5\"/>\n",
       "<polygon fill=\"black\" stroke=\"black\" points=\"791.86,-104 801.86,-100.5 791.86,-97 791.86,-104\"/>\n",
       "</g>\n",
       "</g>\n",
       "</svg>\n"
      ],
      "text/plain": [
       "<graphviz.graphs.Digraph at 0x123ea43bc10>"
      ]
     },
     "execution_count": 16,
     "metadata": {},
     "output_type": "execute_result"
    }
   ],
   "source": [
    "draw_dot(o)"
   ]
  },
  {
   "cell_type": "code",
   "execution_count": null,
   "metadata": {},
   "outputs": [],
   "source": [
    "o.backward()"
   ]
  },
  {
   "cell_type": "code",
   "execution_count": null,
   "metadata": {},
   "outputs": [
    {
     "data": {
      "text/plain": [
       "[Value(data=6.881373587019543),\n",
       " Value(data=2.0),\n",
       " Value(data=-3.0),\n",
       " Value(data=-6.0),\n",
       " Value(data=1.0),\n",
       " Value(data=0.0),\n",
       " Value(data=0.0),\n",
       " Value(data=-6.0),\n",
       " Value(data=0.8813735870195432),\n",
       " Value(data=0.7071067811865476)]"
      ]
     },
     "execution_count": 18,
     "metadata": {},
     "output_type": "execute_result"
    }
   ],
   "source": [
    "topo = []\n",
    "visited = set()\n",
    "def build_topo(v):\n",
    "  if v not in visited:\n",
    "    visited.add(v)\n",
    "    for child in v._prev:\n",
    "      build_topo(child)\n",
    "    topo.append(v)\n",
    "build_topo(o)\n",
    "topo"
   ]
  },
  {
   "cell_type": "code",
   "execution_count": null,
   "metadata": {},
   "outputs": [],
   "source": [
    "o.grad = 1.0"
   ]
  },
  {
   "cell_type": "code",
   "execution_count": null,
   "metadata": {},
   "outputs": [],
   "source": [
    "o._backward()"
   ]
  },
  {
   "cell_type": "code",
   "execution_count": null,
   "metadata": {},
   "outputs": [],
   "source": [
    "n._backward()"
   ]
  },
  {
   "cell_type": "code",
   "execution_count": null,
   "metadata": {},
   "outputs": [],
   "source": [
    "b._backward()"
   ]
  },
  {
   "cell_type": "code",
   "execution_count": null,
   "metadata": {},
   "outputs": [],
   "source": [
    "x1w1x2w2._backward()"
   ]
  },
  {
   "cell_type": "code",
   "execution_count": null,
   "metadata": {},
   "outputs": [],
   "source": [
    "x2w2._backward()\n",
    "x1w1._backward()"
   ]
  },
  {
   "cell_type": "code",
   "execution_count": null,
   "metadata": {},
   "outputs": [],
   "source": [
    "x1.grad = w1.data * x1w1.grad\n",
    "w1.grad = x1.data * x1w1.grad"
   ]
  },
  {
   "cell_type": "code",
   "execution_count": null,
   "metadata": {},
   "outputs": [],
   "source": [
    "x2.grad = w2.data * x2w2.grad\n",
    "w2.grad = x2.data * x2w2.grad"
   ]
  },
  {
   "cell_type": "code",
   "execution_count": null,
   "metadata": {},
   "outputs": [],
   "source": [
    "x1w1.grad = 0.5\n",
    "x2w2.grad = 0.5"
   ]
  },
  {
   "cell_type": "code",
   "execution_count": null,
   "metadata": {},
   "outputs": [],
   "source": [
    "x1w1x2w2.grad = 0.5\n",
    "b.grad = 0.5"
   ]
  },
  {
   "cell_type": "code",
   "execution_count": null,
   "metadata": {},
   "outputs": [],
   "source": [
    "n.grad = 0.5"
   ]
  },
  {
   "cell_type": "code",
   "execution_count": null,
   "metadata": {},
   "outputs": [],
   "source": [
    "o.grad = 1.0"
   ]
  },
  {
   "cell_type": "code",
   "execution_count": null,
   "metadata": {},
   "outputs": [
    {
     "data": {
      "text/plain": [
       "0.4999999999999999"
      ]
     },
     "execution_count": 31,
     "metadata": {},
     "output_type": "execute_result"
    }
   ],
   "source": [
    "1 - o.data**2"
   ]
  },
  {
   "cell_type": "code",
   "execution_count": null,
   "metadata": {},
   "outputs": [],
   "source": [
    "# o = tanh(n)\n",
    "# do/dn = 1 - o**2"
   ]
  },
  {
   "cell_type": "code",
   "execution_count": null,
   "metadata": {},
   "outputs": [
    {
     "data": {
      "image/svg+xml": [
       "<?xml version=\"1.0\" encoding=\"UTF-8\" standalone=\"no\"?>\n",
       "<!DOCTYPE svg PUBLIC \"-//W3C//DTD SVG 1.1//EN\"\n",
       " \"http://www.w3.org/Graphics/SVG/1.1/DTD/svg11.dtd\">\n",
       "<!-- Generated by graphviz version 2.50.0 (0)\n",
       " -->\n",
       "<!-- Pages: 1 -->\n",
       "<svg width=\"593pt\" height=\"45pt\"\n",
       " viewBox=\"0.00 0.00 593.00 45.00\" xmlns=\"http://www.w3.org/2000/svg\" xmlns:xlink=\"http://www.w3.org/1999/xlink\">\n",
       "<g id=\"graph0\" class=\"graph\" transform=\"scale(1 1) rotate(0) translate(4 41)\">\n",
       "<polygon fill=\"white\" stroke=\"transparent\" points=\"-4,4 -4,-41 589,-41 589,4 -4,4\"/>\n",
       "<!-- 1253765791408 -->\n",
       "<g id=\"node1\" class=\"node\">\n",
       "<title>1253765791408</title>\n",
       "<polygon fill=\"none\" stroke=\"black\" points=\"0,-0.5 0,-36.5 229,-36.5 229,-0.5 0,-0.5\"/>\n",
       "<text text-anchor=\"middle\" x=\"11.5\" y=\"-14.8\" font-family=\"Times New Roman,serif\" font-size=\"14.00\">a</text>\n",
       "<polyline fill=\"none\" stroke=\"black\" points=\"23,-0.5 23,-36.5 \"/>\n",
       "<text text-anchor=\"middle\" x=\"63\" y=\"-14.8\" font-family=\"Times New Roman,serif\" font-size=\"14.00\">data 3.0000</text>\n",
       "<polyline fill=\"none\" stroke=\"black\" points=\"103,-0.5 103,-36.5 \"/>\n",
       "<text text-anchor=\"middle\" x=\"166\" y=\"-14.8\" font-family=\"Times New Roman,serif\" font-size=\"14.00\">grad (dL/da) 2.0000</text>\n",
       "</g>\n",
       "<!-- 1253765791168+ -->\n",
       "<g id=\"node3\" class=\"node\">\n",
       "<title>1253765791168+</title>\n",
       "<ellipse fill=\"none\" stroke=\"black\" cx=\"292\" cy=\"-18.5\" rx=\"27\" ry=\"18\"/>\n",
       "<text text-anchor=\"middle\" x=\"292\" y=\"-14.8\" font-family=\"Times New Roman,serif\" font-size=\"14.00\">+</text>\n",
       "</g>\n",
       "<!-- 1253765791408&#45;&gt;1253765791168+ -->\n",
       "<g id=\"edge2\" class=\"edge\">\n",
       "<title>1253765791408&#45;&gt;1253765791168+</title>\n",
       "<path fill=\"none\" stroke=\"black\" d=\"M229.13,-18.5C238.19,-18.5 246.84,-18.5 254.66,-18.5\"/>\n",
       "<polygon fill=\"black\" stroke=\"black\" points=\"254.76,-22 264.76,-18.5 254.76,-15 254.76,-22\"/>\n",
       "</g>\n",
       "<!-- 1253765791168 -->\n",
       "<g id=\"node2\" class=\"node\">\n",
       "<title>1253765791168</title>\n",
       "<polygon fill=\"none\" stroke=\"black\" points=\"355,-0.5 355,-36.5 585,-36.5 585,-0.5 355,-0.5\"/>\n",
       "<text text-anchor=\"middle\" x=\"366.5\" y=\"-14.8\" font-family=\"Times New Roman,serif\" font-size=\"14.00\">b</text>\n",
       "<polyline fill=\"none\" stroke=\"black\" points=\"378,-0.5 378,-36.5 \"/>\n",
       "<text text-anchor=\"middle\" x=\"418\" y=\"-14.8\" font-family=\"Times New Roman,serif\" font-size=\"14.00\">data 6.0000</text>\n",
       "<polyline fill=\"none\" stroke=\"black\" points=\"458,-0.5 458,-36.5 \"/>\n",
       "<text text-anchor=\"middle\" x=\"521.5\" y=\"-14.8\" font-family=\"Times New Roman,serif\" font-size=\"14.00\">grad (dL/db) 1.0000</text>\n",
       "</g>\n",
       "<!-- 1253765791168+&#45;&gt;1253765791168 -->\n",
       "<g id=\"edge1\" class=\"edge\">\n",
       "<title>1253765791168+&#45;&gt;1253765791168</title>\n",
       "<path fill=\"none\" stroke=\"black\" d=\"M319.35,-18.5C326.74,-18.5 335.3,-18.5 344.51,-18.5\"/>\n",
       "<polygon fill=\"black\" stroke=\"black\" points=\"344.74,-22 354.74,-18.5 344.74,-15 344.74,-22\"/>\n",
       "</g>\n",
       "</g>\n",
       "</svg>\n"
      ],
      "text/plain": [
       "<graphviz.graphs.Digraph at 0x123ea375030>"
      ]
     },
     "execution_count": 33,
     "metadata": {},
     "output_type": "execute_result"
    }
   ],
   "source": [
    "a = Value(3.0, label='a')\n",
    "b = a + a   ; b.label = 'b'\n",
    "b.backward()\n",
    "draw_dot(b)"
   ]
  },
  {
   "cell_type": "code",
   "execution_count": null,
   "metadata": {},
   "outputs": [
    {
     "data": {
      "image/svg+xml": [
       "<?xml version=\"1.0\" encoding=\"UTF-8\" standalone=\"no\"?>\n",
       "<!DOCTYPE svg PUBLIC \"-//W3C//DTD SVG 1.1//EN\"\n",
       " \"http://www.w3.org/Graphics/SVG/1.1/DTD/svg11.dtd\">\n",
       "<!-- Generated by graphviz version 2.50.0 (0)\n",
       " -->\n",
       "<!-- Pages: 1 -->\n",
       "<svg width=\"965pt\" height=\"100pt\"\n",
       " viewBox=\"0.00 0.00 965.00 100.00\" xmlns=\"http://www.w3.org/2000/svg\" xmlns:xlink=\"http://www.w3.org/1999/xlink\">\n",
       "<g id=\"graph0\" class=\"graph\" transform=\"scale(1 1) rotate(0) translate(4 96)\">\n",
       "<polygon fill=\"white\" stroke=\"transparent\" points=\"-4,4 -4,-96 961,-96 961,4 -4,4\"/>\n",
       "<!-- 1253765790208 -->\n",
       "<g id=\"node1\" class=\"node\">\n",
       "<title>1253765790208</title>\n",
       "<polygon fill=\"none\" stroke=\"black\" points=\"365,-55.5 365,-91.5 600,-91.5 600,-55.5 365,-55.5\"/>\n",
       "<text text-anchor=\"middle\" x=\"376.5\" y=\"-69.8\" font-family=\"Times New Roman,serif\" font-size=\"14.00\">d</text>\n",
       "<polyline fill=\"none\" stroke=\"black\" points=\"388,-55.5 388,-91.5 \"/>\n",
       "<text text-anchor=\"middle\" x=\"430.5\" y=\"-69.8\" font-family=\"Times New Roman,serif\" font-size=\"14.00\">data &#45;6.0000</text>\n",
       "<polyline fill=\"none\" stroke=\"black\" points=\"473,-55.5 473,-91.5 \"/>\n",
       "<text text-anchor=\"middle\" x=\"536.5\" y=\"-69.8\" font-family=\"Times New Roman,serif\" font-size=\"14.00\">grad (dL/dd) 1.0000</text>\n",
       "</g>\n",
       "<!-- 1253765790976* -->\n",
       "<g id=\"node7\" class=\"node\">\n",
       "<title>1253765790976*</title>\n",
       "<ellipse fill=\"none\" stroke=\"black\" cx=\"663\" cy=\"-45.5\" rx=\"27\" ry=\"18\"/>\n",
       "<text text-anchor=\"middle\" x=\"663\" y=\"-41.8\" font-family=\"Times New Roman,serif\" font-size=\"14.00\">*</text>\n",
       "</g>\n",
       "<!-- 1253765790208&#45;&gt;1253765790976* -->\n",
       "<g id=\"edge8\" class=\"edge\">\n",
       "<title>1253765790208&#45;&gt;1253765790976*</title>\n",
       "<path fill=\"none\" stroke=\"black\" d=\"M598.31,-55.49C608.42,-53.91 618.04,-52.4 626.61,-51.05\"/>\n",
       "<polygon fill=\"black\" stroke=\"black\" points=\"627.16,-54.51 636.5,-49.5 626.08,-47.59 627.16,-54.51\"/>\n",
       "</g>\n",
       "<!-- 1253765790208* -->\n",
       "<g id=\"node2\" class=\"node\">\n",
       "<title>1253765790208*</title>\n",
       "<ellipse fill=\"none\" stroke=\"black\" cx=\"302\" cy=\"-73.5\" rx=\"27\" ry=\"18\"/>\n",
       "<text text-anchor=\"middle\" x=\"302\" y=\"-69.8\" font-family=\"Times New Roman,serif\" font-size=\"14.00\">*</text>\n",
       "</g>\n",
       "<!-- 1253765790208*&#45;&gt;1253765790208 -->\n",
       "<g id=\"edge1\" class=\"edge\">\n",
       "<title>1253765790208*&#45;&gt;1253765790208</title>\n",
       "<path fill=\"none\" stroke=\"black\" d=\"M329.34,-73.5C336.74,-73.5 345.33,-73.5 354.57,-73.5\"/>\n",
       "<polygon fill=\"black\" stroke=\"black\" points=\"354.84,-77 364.84,-73.5 354.84,-70 354.84,-77\"/>\n",
       "</g>\n",
       "<!-- 1253765784592 -->\n",
       "<g id=\"node3\" class=\"node\">\n",
       "<title>1253765784592</title>\n",
       "<polygon fill=\"none\" stroke=\"black\" points=\"365.5,-0.5 365.5,-36.5 599.5,-36.5 599.5,-0.5 365.5,-0.5\"/>\n",
       "<text text-anchor=\"middle\" x=\"377\" y=\"-14.8\" font-family=\"Times New Roman,serif\" font-size=\"14.00\">e</text>\n",
       "<polyline fill=\"none\" stroke=\"black\" points=\"388.5,-0.5 388.5,-36.5 \"/>\n",
       "<text text-anchor=\"middle\" x=\"428.5\" y=\"-14.8\" font-family=\"Times New Roman,serif\" font-size=\"14.00\">data 1.0000</text>\n",
       "<polyline fill=\"none\" stroke=\"black\" points=\"468.5,-0.5 468.5,-36.5 \"/>\n",
       "<text text-anchor=\"middle\" x=\"534\" y=\"-14.8\" font-family=\"Times New Roman,serif\" font-size=\"14.00\">grad (dL/de) &#45;6.0000</text>\n",
       "</g>\n",
       "<!-- 1253765784592&#45;&gt;1253765790976* -->\n",
       "<g id=\"edge6\" class=\"edge\">\n",
       "<title>1253765784592&#45;&gt;1253765790976*</title>\n",
       "<path fill=\"none\" stroke=\"black\" d=\"M599.57,-36.06C609.11,-37.5 618.19,-38.87 626.34,-40.11\"/>\n",
       "<polygon fill=\"black\" stroke=\"black\" points=\"626.04,-43.6 636.45,-41.64 627.09,-36.68 626.04,-43.6\"/>\n",
       "</g>\n",
       "<!-- 1253765784592+ -->\n",
       "<g id=\"node4\" class=\"node\">\n",
       "<title>1253765784592+</title>\n",
       "<ellipse fill=\"none\" stroke=\"black\" cx=\"302\" cy=\"-18.5\" rx=\"27\" ry=\"18\"/>\n",
       "<text text-anchor=\"middle\" x=\"302\" y=\"-14.8\" font-family=\"Times New Roman,serif\" font-size=\"14.00\">+</text>\n",
       "</g>\n",
       "<!-- 1253765784592+&#45;&gt;1253765784592 -->\n",
       "<g id=\"edge2\" class=\"edge\">\n",
       "<title>1253765784592+&#45;&gt;1253765784592</title>\n",
       "<path fill=\"none\" stroke=\"black\" d=\"M329.34,-18.5C336.9,-18.5 345.68,-18.5 355.14,-18.5\"/>\n",
       "<polygon fill=\"black\" stroke=\"black\" points=\"355.22,-22 365.22,-18.5 355.22,-15 355.22,-22\"/>\n",
       "</g>\n",
       "<!-- 1253765785312 -->\n",
       "<g id=\"node5\" class=\"node\">\n",
       "<title>1253765785312</title>\n",
       "<polygon fill=\"none\" stroke=\"black\" points=\"2.5,-55.5 2.5,-91.5 236.5,-91.5 236.5,-55.5 2.5,-55.5\"/>\n",
       "<text text-anchor=\"middle\" x=\"14\" y=\"-69.8\" font-family=\"Times New Roman,serif\" font-size=\"14.00\">b</text>\n",
       "<polyline fill=\"none\" stroke=\"black\" points=\"25.5,-55.5 25.5,-91.5 \"/>\n",
       "<text text-anchor=\"middle\" x=\"65.5\" y=\"-69.8\" font-family=\"Times New Roman,serif\" font-size=\"14.00\">data 3.0000</text>\n",
       "<polyline fill=\"none\" stroke=\"black\" points=\"105.5,-55.5 105.5,-91.5 \"/>\n",
       "<text text-anchor=\"middle\" x=\"171\" y=\"-69.8\" font-family=\"Times New Roman,serif\" font-size=\"14.00\">grad (dL/db) &#45;8.0000</text>\n",
       "</g>\n",
       "<!-- 1253765785312&#45;&gt;1253765790208* -->\n",
       "<g id=\"edge5\" class=\"edge\">\n",
       "<title>1253765785312&#45;&gt;1253765790208*</title>\n",
       "<path fill=\"none\" stroke=\"black\" d=\"M236.6,-73.5C246.61,-73.5 256.15,-73.5 264.68,-73.5\"/>\n",
       "<polygon fill=\"black\" stroke=\"black\" points=\"264.9,-77 274.9,-73.5 264.9,-70 264.9,-77\"/>\n",
       "</g>\n",
       "<!-- 1253765785312&#45;&gt;1253765784592+ -->\n",
       "<g id=\"edge7\" class=\"edge\">\n",
       "<title>1253765785312&#45;&gt;1253765784592+</title>\n",
       "<path fill=\"none\" stroke=\"black\" d=\"M208.73,-55.46C219.02,-52.75 229.3,-49.76 239,-46.5 249.69,-42.91 261.03,-38.1 271.05,-33.48\"/>\n",
       "<polygon fill=\"black\" stroke=\"black\" points=\"272.64,-36.6 280.19,-29.16 269.65,-30.27 272.64,-36.6\"/>\n",
       "</g>\n",
       "<!-- 1253765790976 -->\n",
       "<g id=\"node6\" class=\"node\">\n",
       "<title>1253765790976</title>\n",
       "<polygon fill=\"none\" stroke=\"black\" points=\"726,-27.5 726,-63.5 957,-63.5 957,-27.5 726,-27.5\"/>\n",
       "<text text-anchor=\"middle\" x=\"736.5\" y=\"-41.8\" font-family=\"Times New Roman,serif\" font-size=\"14.00\">f</text>\n",
       "<polyline fill=\"none\" stroke=\"black\" points=\"747,-27.5 747,-63.5 \"/>\n",
       "<text text-anchor=\"middle\" x=\"789.5\" y=\"-41.8\" font-family=\"Times New Roman,serif\" font-size=\"14.00\">data &#45;6.0000</text>\n",
       "<polyline fill=\"none\" stroke=\"black\" points=\"832,-27.5 832,-63.5 \"/>\n",
       "<text text-anchor=\"middle\" x=\"894.5\" y=\"-41.8\" font-family=\"Times New Roman,serif\" font-size=\"14.00\">grad (dL/df) 1.0000</text>\n",
       "</g>\n",
       "<!-- 1253765790976*&#45;&gt;1253765790976 -->\n",
       "<g id=\"edge3\" class=\"edge\">\n",
       "<title>1253765790976*&#45;&gt;1253765790976</title>\n",
       "<path fill=\"none\" stroke=\"black\" d=\"M690.04,-45.5C697.59,-45.5 706.37,-45.5 715.82,-45.5\"/>\n",
       "<polygon fill=\"black\" stroke=\"black\" points=\"715.89,-49 725.89,-45.5 715.89,-42 715.89,-49\"/>\n",
       "</g>\n",
       "<!-- 1253765784928 -->\n",
       "<g id=\"node8\" class=\"node\">\n",
       "<title>1253765784928</title>\n",
       "<polygon fill=\"none\" stroke=\"black\" points=\"0,-0.5 0,-36.5 239,-36.5 239,-0.5 0,-0.5\"/>\n",
       "<text text-anchor=\"middle\" x=\"11.5\" y=\"-14.8\" font-family=\"Times New Roman,serif\" font-size=\"14.00\">a</text>\n",
       "<polyline fill=\"none\" stroke=\"black\" points=\"23,-0.5 23,-36.5 \"/>\n",
       "<text text-anchor=\"middle\" x=\"65.5\" y=\"-14.8\" font-family=\"Times New Roman,serif\" font-size=\"14.00\">data &#45;2.0000</text>\n",
       "<polyline fill=\"none\" stroke=\"black\" points=\"108,-0.5 108,-36.5 \"/>\n",
       "<text text-anchor=\"middle\" x=\"173.5\" y=\"-14.8\" font-family=\"Times New Roman,serif\" font-size=\"14.00\">grad (dL/da) &#45;3.0000</text>\n",
       "</g>\n",
       "<!-- 1253765784928&#45;&gt;1253765790208* -->\n",
       "<g id=\"edge9\" class=\"edge\">\n",
       "<title>1253765784928&#45;&gt;1253765790208*</title>\n",
       "<path fill=\"none\" stroke=\"black\" d=\"M205.18,-36.55C216.63,-39.56 228.17,-42.89 239,-46.5 249.44,-49.98 260.55,-54.53 270.44,-58.9\"/>\n",
       "<polygon fill=\"black\" stroke=\"black\" points=\"269.3,-62.22 279.85,-63.17 272.19,-55.85 269.3,-62.22\"/>\n",
       "</g>\n",
       "<!-- 1253765784928&#45;&gt;1253765784592+ -->\n",
       "<g id=\"edge4\" class=\"edge\">\n",
       "<title>1253765784928&#45;&gt;1253765784592+</title>\n",
       "<path fill=\"none\" stroke=\"black\" d=\"M239.13,-18.5C248.24,-18.5 256.92,-18.5 264.74,-18.5\"/>\n",
       "<polygon fill=\"black\" stroke=\"black\" points=\"264.84,-22 274.84,-18.5 264.84,-15 264.84,-22\"/>\n",
       "</g>\n",
       "</g>\n",
       "</svg>\n"
      ],
      "text/plain": [
       "<graphviz.graphs.Digraph at 0x123ea439930>"
      ]
     },
     "execution_count": 34,
     "metadata": {},
     "output_type": "execute_result"
    }
   ],
   "source": [
    "a = Value(-2.0, label='a')\n",
    "b = Value(3.0, label='b')\n",
    "d = a * b    ; d.label = 'd'\n",
    "e = a + b    ; e.label = 'e'\n",
    "f = d * e    ; f.label = 'f'\n",
    "\n",
    "f.backward()\n",
    "\n",
    "draw_dot(f)"
   ]
  },
  {
   "cell_type": "code",
   "execution_count": null,
   "metadata": {},
   "outputs": [],
   "source": []
  }
 ],
 "metadata": {
  "kernelspec": {
   "display_name": "Python 3",
   "language": "python",
   "name": "python3"
  },
  "language_info": {
   "codemirror_mode": {
    "name": "ipython",
    "version": 3
   },
   "file_extension": ".py",
   "mimetype": "text/x-python",
   "name": "python",
   "nbconvert_exporter": "python",
   "pygments_lexer": "ipython3",
   "version": "3.10.9"
  }
 },
 "nbformat": 4,
 "nbformat_minor": 4
}
